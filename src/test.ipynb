{
 "cells": [
  {
   "cell_type": "markdown",
   "metadata": {},
   "source": [
    "### Задание 7"
   ]
  },
  {
   "cell_type": "code",
   "execution_count": 161,
   "metadata": {},
   "outputs": [],
   "source": [
    "import pandas as pd\n",
    "\n",
    "\n",
    "dfe = pd.read_excel('../data/документация/КТ_Кировский.xlsx')\n",
    "dfc = pd.read_csv('../data/документация/sp.csv')\n",
    "\n",
    "dfec = dfe.copy(deep=True)\n",
    "dfcc = dfc.copy(deep=True)\n",
    "\n",
    "dfcc['Сумма'] = dfcc['Сумма'].replace(',', '.', regex=True).astype(float)\n",
    "dfcc['Пени'] = dfcc['Пени'].replace(',', '.', regex=True).astype(float)\n",
    "dfcc['ГосПошлина'] = dfcc['ГосПошлина'].replace(',', '.', regex=True).astype(float)\n",
    "\n",
    "#dfcc['Общий долг'] = dfcc[['Сумма', 'Пени', 'ГосПошлина']].sum(axis=1)"
   ]
  },
  {
   "cell_type": "code",
   "execution_count": 178,
   "metadata": {},
   "outputs": [
    {
     "data": {
      "text/plain": [
       "(              Номер ИД       Номер       Счет      Сумма     Пени  ГосПошлина\n",
       " 377816  2-88-1941/2022  2148135485  3278559.0  128377.34  2755.62         0.0\n",
       " 377817  2-88-1941/2022  2148135485  3278559.0  128377.34  9439.56      1023.2\n",
       " 377818  2-88-1941/2022  2148135485  3278559.0  128377.34  9439.56      1023.2,\n",
       "               Номер ИД       Номер       Счет      Сумма     Пени  ГосПошлина\n",
       " 377818  2-88-1942/2022  2148135485  3278559.0  128377.34  9439.56      1023.2)"
      ]
     },
     "execution_count": 178,
     "metadata": {},
     "output_type": "execute_result"
    }
   ],
   "source": [
    "df = dfcc.copy(deep=True)\n",
    "df['Номер ИД'] = df['Номер ИД'].str.split(r',\\s*')\n",
    "df = df.explode('Номер ИД')\n",
    "\n",
    "df[df['Номер ИД'] == \"2-88-1941/2022\"], df[df['Номер ИД'] == \"2-88-1942/2022\"]\n"
   ]
  },
  {
   "cell_type": "code",
   "execution_count": 107,
   "metadata": {},
   "outputs": [
    {
     "name": "stdout",
     "output_type": "stream",
     "text": [
      "Null - (0, 35), All - (2520, 35)\n"
     ]
    }
   ],
   "source": [
    "merged_df = pd.merge(dfec, dfcc[['Номер ИД', 'Сумма', 'Пени', 'ГосПошлина']], how='left').drop_duplicates()\n",
    "merged_df['Общий долг'] = merged_df[['Сумма', 'Пени', 'ГосПошлина']].sum(axis=1)\n",
    "\n",
    "print(f\"Null - {merged_df[merged_df['Общий долг'].isna()].shape}, All - {merged_df.shape}\")\n"
   ]
  },
  {
   "cell_type": "code",
   "execution_count": null,
   "metadata": {},
   "outputs": [],
   "source": [
    "pd.set_option('display.max_columns', None)\n",
    "merged_df[merged_df['Общий долг'] == 0]"
   ]
  },
  {
   "cell_type": "code",
   "execution_count": 108,
   "metadata": {},
   "outputs": [],
   "source": [
    "merged_df.to_excel('../data/документация/КТ_Кировский_ОбщийДолг.xlsx')"
   ]
  },
  {
   "cell_type": "code",
   "execution_count": 135,
   "metadata": {},
   "outputs": [
    {
     "data": {
      "text/plain": [
       "Номер ИД       object\n",
       "Номер           int64\n",
       "Счет          float64\n",
       "Сумма         float64\n",
       "Пени          float64\n",
       "ГосПошлина    float64\n",
       "dtype: object"
      ]
     },
     "execution_count": 135,
     "metadata": {},
     "output_type": "execute_result"
    }
   ],
   "source": [
    "dfcc.dtypes"
   ]
  }
 ],
 "metadata": {
  "kernelspec": {
   "display_name": "pp",
   "language": "python",
   "name": "python3"
  },
  "language_info": {
   "codemirror_mode": {
    "name": "ipython",
    "version": 3
   },
   "file_extension": ".py",
   "mimetype": "text/x-python",
   "name": "python",
   "nbconvert_exporter": "python",
   "pygments_lexer": "ipython3",
   "version": "3.13.2"
  }
 },
 "nbformat": 4,
 "nbformat_minor": 2
}
