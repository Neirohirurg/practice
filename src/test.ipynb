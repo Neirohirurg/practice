{
 "cells": [
  {
   "cell_type": "code",
   "execution_count": null,
   "metadata": {},
   "outputs": [
    {
     "data": {
      "text/plain": [
       "Index(['Номер ИД', 'Номер', 'Счет', 'Сумма', 'Пени', 'ГосПошлина',\n",
       "       'Общий долг'],\n",
       "      dtype='object')"
      ]
     },
     "execution_count": 109,
     "metadata": {},
     "output_type": "execute_result"
    }
   ],
   "source": [
    "import pandas as pd\n",
    "\n",
    "\n",
    "dfe = pd.read_excel('../data/документация/КТ_Кировский.xlsx')\n",
    "dfc = pd.read_csv('../data/документация/sp.csv')\n",
    "\n",
    "dfec = dfe.copy(deep=True)\n",
    "dfcc = dfc.copy(deep=True)\n",
    "\n",
    "dfcc.columns = ['Номер ИД', 'Номер', 'Счет', 'Сумма', 'Пени', 'ГосПошлина']\n",
    "\n",
    "dfcc['Сумма'] = dfcc['Сумма'].replace(',', '.', regex=True).astype(float)\n",
    "dfcc['Пени'] = dfcc['Пени'].replace(',', '.', regex=True).astype(float)\n",
    "dfcc['ГосПошлина'] = dfcc['ГосПошлина'].replace(',', '.', regex=True).astype(float)\n",
    "dfcc['Общий долг'] = dfcc[['Сумма', 'Пени', 'ГосПошлина']].sum(axis=1)\n"
   ]
  },
  {
   "cell_type": "code",
   "execution_count": 128,
   "metadata": {},
   "outputs": [
    {
     "data": {
      "text/plain": [
       "(1507, 35)"
      ]
     },
     "execution_count": 128,
     "metadata": {},
     "output_type": "execute_result"
    }
   ],
   "source": [
    "merged_df = pd.merge(dfec, dfcc[['Номер ИД', 'Сумма', 'Пени', 'ГосПошлина', 'Общий долг']], how='inner')\n",
    "\n",
    "merged_df.shape"
   ]
  },
  {
   "cell_type": "code",
   "execution_count": 127,
   "metadata": {},
   "outputs": [],
   "source": [
    "merged_df.to_excel('../data/документация/КТ_Кировский_Обновленный.xlsx')"
   ]
  }
 ],
 "metadata": {
  "kernelspec": {
   "display_name": "pp",
   "language": "python",
   "name": "python3"
  },
  "language_info": {
   "codemirror_mode": {
    "name": "ipython",
    "version": 3
   },
   "file_extension": ".py",
   "mimetype": "text/x-python",
   "name": "python",
   "nbconvert_exporter": "python",
   "pygments_lexer": "ipython3",
   "version": "3.13.2"
  }
 },
 "nbformat": 4,
 "nbformat_minor": 2
}
