{
 "cells": [
  {
   "cell_type": "code",
   "execution_count": 2,
   "metadata": {},
   "outputs": [],
   "source": [
    "import pandas as pd"
   ]
  },
  {
   "cell_type": "markdown",
   "metadata": {},
   "source": [
    "### Задание 7"
   ]
  },
  {
   "cell_type": "code",
   "execution_count": 71,
   "metadata": {},
   "outputs": [],
   "source": [
    "\n",
    "dfe = pd.read_excel('../data/документация/КТ_Кировский.xlsx')\n",
    "dfc = pd.read_csv('../data/документация/sp.csv')\n",
    "\n",
    "dfec = dfe.copy(deep=True)\n",
    "dfcc = dfc.copy(deep=True)\n",
    "\n",
    "dfcc['Сумма'] = dfcc['Сумма'].replace(',', '.', regex=True).astype(float)\n",
    "dfcc['Пени'] = dfcc['Пени'].replace(',', '.', regex=True).astype(float)\n",
    "dfcc['ГосПошлина'] = dfcc['ГосПошлина'].replace(',', '.', regex=True).astype(float)\n",
    "\n",
    "#dfcc['Общий долг'] = dfcc[['Сумма', 'Пени', 'ГосПошлина']].sum(axis=1)"
   ]
  },
  {
   "cell_type": "code",
   "execution_count": 178,
   "metadata": {},
   "outputs": [
    {
     "data": {
      "text/plain": [
       "(              Номер ИД       Номер       Счет      Сумма     Пени  ГосПошлина\n",
       " 377816  2-88-1941/2022  2148135485  3278559.0  128377.34  2755.62         0.0\n",
       " 377817  2-88-1941/2022  2148135485  3278559.0  128377.34  9439.56      1023.2\n",
       " 377818  2-88-1941/2022  2148135485  3278559.0  128377.34  9439.56      1023.2,\n",
       "               Номер ИД       Номер       Счет      Сумма     Пени  ГосПошлина\n",
       " 377818  2-88-1942/2022  2148135485  3278559.0  128377.34  9439.56      1023.2)"
      ]
     },
     "execution_count": 178,
     "metadata": {},
     "output_type": "execute_result"
    }
   ],
   "source": [
    "df = dfcc.copy(deep=True)\n",
    "df['Номер ИД'] = df['Номер ИД'].str.split(r',\\s*')\n",
    "df = df.explode('Номер ИД')\n",
    "\n",
    "df[df['Номер ИД'] == \"2-88-1941/2022\"], df[df['Номер ИД'] == \"2-88-1942/2022\"]\n"
   ]
  },
  {
   "cell_type": "code",
   "execution_count": 107,
   "metadata": {},
   "outputs": [
    {
     "name": "stdout",
     "output_type": "stream",
     "text": [
      "Null - (0, 35), All - (2520, 35)\n"
     ]
    }
   ],
   "source": [
    "merged_df = pd.merge(dfec, dfcc[['Номер ИД', 'Сумма', 'Пени', 'ГосПошлина']], how='left').drop_duplicates()\n",
    "merged_df['Общий долг'] = merged_df[['Сумма', 'Пени', 'ГосПошлина']].sum(axis=1)\n",
    "\n",
    "print(f\"Null - {merged_df[merged_df['Общий долг'].isna()].shape}, All - {merged_df.shape}\")\n"
   ]
  },
  {
   "cell_type": "code",
   "execution_count": null,
   "metadata": {},
   "outputs": [],
   "source": [
    "pd.set_option('display.max_columns', None)\n",
    "merged_df[merged_df['Общий долг'] == 0]"
   ]
  },
  {
   "cell_type": "code",
   "execution_count": 108,
   "metadata": {},
   "outputs": [],
   "source": [
    "merged_df.to_excel('../data/документация/КТ_Кировский_ОбщийДолг.xlsx')"
   ]
  },
  {
   "cell_type": "code",
   "execution_count": 72,
   "metadata": {},
   "outputs": [
    {
     "data": {
      "text/plain": [
       "Номер ИД       object\n",
       "Номер           int64\n",
       "Счет          float64\n",
       "Сумма         float64\n",
       "Пени          float64\n",
       "ГосПошлина    float64\n",
       "dtype: object"
      ]
     },
     "execution_count": 72,
     "metadata": {},
     "output_type": "execute_result"
    }
   ],
   "source": [
    "dfcc.dtypes"
   ]
  },
  {
   "cell_type": "markdown",
   "metadata": {},
   "source": [
    "### Задание 8 - Общий отчет"
   ]
  },
  {
   "cell_type": "code",
   "execution_count": null,
   "metadata": {},
   "outputs": [],
   "source": [
    "fz = pd.read_csv(\"../data/документация/fz.csv\")\n",
    "sv = pd.read_excel(\"../data/документация/Стадии взысканий.xlsx\")\n",
    "\n",
    "fzcopy = fz.copy(deep=True)\n",
    "fzcopy = pd.merge(fzcopy, sv, how=\"left\")\n",
    "\n",
    "\n",
    "fzcopy['Сумма'] = pd.to_numeric(fzcopy['Сумма'].replace(',', '.', regex=True).astype(float))\n",
    "fzcopy['ROW_ID_Взыскания'] = pd.to_numeric(fzcopy['ROW_ID_Взыскания'], errors='coerce').fillna(0).astype(int)\n",
    "fzcopy['НомерДела'] = pd.to_numeric(fzcopy['НомерДела'], errors='coerce').fillna(0).astype(int)\n",
    "fzcopy['Месяц долга'] = pd.to_datetime(fzcopy['Месяц долга'])\n"
   ]
  },
  {
   "cell_type": "code",
   "execution_count": null,
   "metadata": {},
   "outputs": [
    {
     "data": {
      "text/plain": [
       "Сумма                             float64\n",
       "Номер ЛЦ                            int64\n",
       "Счет-Наниматель                   float64\n",
       "Месяц долга                datetime64[ns]\n",
       "Наименование                       object\n",
       "ROW_ID_Организации                  int64\n",
       "ФИО                                object\n",
       "Дата рождения                      object\n",
       "Дата смерти                        object\n",
       "ROW_ID_Взыскания                    int64\n",
       "Фаза                               object\n",
       "Дата постановки на фазу            object\n",
       "ДатНачДолга                        object\n",
       "ДатКнцДолга                        object\n",
       "НомерДела                           int64\n",
       "Общая стадия                       object\n",
       "Сомнительность                     object\n",
       "dtype: object"
      ]
     },
     "execution_count": 161,
     "metadata": {},
     "output_type": "execute_result"
    }
   ],
   "source": [
    "fzcopy.dtypes"
   ]
  },
  {
   "cell_type": "code",
   "execution_count": null,
   "metadata": {},
   "outputs": [],
   "source": [
    "def Period(df):\n",
    "    \n",
    "    period = pd.to_datetime('2025-02-01')\n",
    "\n",
    "    df['months_diff'] = (\n",
    "        (period.year - df['Месяц долга'].dt.year) * 12\n",
    "        + (period.month - df['Месяц долга'].dt.month)\n",
    "    )\n",
    "\n",
    "    df['years_diff'] = df['months_diff'] // 12\n",
    "\n",
    "    \n",
    "    def create_row(aLS, aNS, sum):\n",
    "        return pd.DataFrame([{'КоличествоЛЦ': aLS, 'КоличествоДел': aNS, 'СуммаДолга': sum}])\n",
    "\n",
    "    dfp = pd.DataFrame(columns=['КоличествоЛЦ', 'КоличествоДел', 'СуммаДолга'])\n",
    "\n",
    "    # Отчетный месяц\n",
    "    dfp = pd.concat([dfp, create_row(\n",
    "                                    df.query('months_diff == 0')['Номер ЛЦ'].nunique(),\n",
    "                                    df.query('months_diff == 0')['ROW_ID_Взыскания'].nunique(),\n",
    "                                    df.query('months_diff == 0')['Сумма'].sum())])\n",
    "\n",
    "    # от 2 до 3 месяцев после отчетного\n",
    "    dfp = pd.concat([dfp, create_row(\n",
    "                                    df.query('3 > months_diff >= 2')['Номер ЛЦ'].nunique(),\n",
    "                                    df.query('3 > months_diff >= 2')['ROW_ID_Взыскания'].nunique(),\n",
    "                                    df.query('3 > months_diff >= 2')['Сумма'].sum())])\n",
    "\n",
    "    # от 3 месяцев до 3 лет после отчетного\n",
    "    dfp = pd.concat([dfp, create_row(\n",
    "                                    df.query('months_diff >= 3 and years_diff <= 3')['Номер ЛЦ'].nunique(),\n",
    "                                    df.query('months_diff >= 3 and years_diff <= 3')['ROW_ID_Взыскания'].nunique(),\n",
    "                                    df.query('months_diff >= 3 and years_diff <= 3')['Сумма'].sum())])\n",
    "\n",
    "    # свыше 3 лет\n",
    "    dfp = pd.concat([dfp, create_row(\n",
    "                                    df.query('years_diff >= 3')['Номер ЛЦ'].nunique(),\n",
    "                                    df.query('years_diff >= 3')['ROW_ID_Взыскания'].nunique(),\n",
    "                                    df.query('years_diff >= 3')['Сумма'].sum())])\n",
    "\n",
    "    return dfp"
   ]
  },
  {
   "cell_type": "code",
   "execution_count": 128,
   "metadata": {},
   "outputs": [
    {
     "data": {
      "text/html": [
       "<div>\n",
       "<style scoped>\n",
       "    .dataframe tbody tr th:only-of-type {\n",
       "        vertical-align: middle;\n",
       "    }\n",
       "\n",
       "    .dataframe tbody tr th {\n",
       "        vertical-align: top;\n",
       "    }\n",
       "\n",
       "    .dataframe thead th {\n",
       "        text-align: right;\n",
       "    }\n",
       "</style>\n",
       "<table border=\"1\" class=\"dataframe\">\n",
       "  <thead>\n",
       "    <tr style=\"text-align: right;\">\n",
       "      <th></th>\n",
       "      <th>Сумма</th>\n",
       "      <th>Номер ЛЦ</th>\n",
       "      <th>Счет-Наниматель</th>\n",
       "      <th>Месяц долга</th>\n",
       "      <th>Наименование</th>\n",
       "      <th>ROW_ID_Организации</th>\n",
       "      <th>ФИО</th>\n",
       "      <th>Дата рождения</th>\n",
       "      <th>Дата смерти</th>\n",
       "      <th>ROW_ID_Взыскания</th>\n",
       "      <th>Фаза</th>\n",
       "      <th>Дата постановки на фазу</th>\n",
       "      <th>ДатНачДолга</th>\n",
       "      <th>ДатКнцДолга</th>\n",
       "      <th>НомерДела</th>\n",
       "      <th>Общая стадия</th>\n",
       "      <th>Сомнительность</th>\n",
       "    </tr>\n",
       "  </thead>\n",
       "  <tbody>\n",
       "  </tbody>\n",
       "</table>\n",
       "</div>"
      ],
      "text/plain": [
       "Empty DataFrame\n",
       "Columns: [Сумма, Номер ЛЦ, Счет-Наниматель, Месяц долга, Наименование, ROW_ID_Организации, ФИО, Дата рождения, Дата смерти, ROW_ID_Взыскания, Фаза, Дата постановки на фазу, ДатНачДолга, ДатКнцДолга, НомерДела, Общая стадия, Сомнительность]\n",
       "Index: []"
      ]
     },
     "execution_count": 128,
     "metadata": {},
     "output_type": "execute_result"
    }
   ],
   "source": [
    "fzcopy[(fzcopy['Месяц долга'] == pd.to_datetime('2024-10-02')) & fzcopy['Общая стадия'] == 'Суд']"
   ]
  },
  {
   "cell_type": "markdown",
   "metadata": {},
   "source": [
    "#### Досудебная фаза"
   ]
  },
  {
   "cell_type": "code",
   "execution_count": 145,
   "metadata": {},
   "outputs": [],
   "source": [
    "fzDosud = fzcopy[(fzcopy[\"Общая стадия\"] == \"Досубедная от месяца\") | fzcopy[\"Фаза\"].isna() | fzcopy[\"Общая стадия\"].isna()]\n"
   ]
  },
  {
   "cell_type": "code",
   "execution_count": null,
   "metadata": {},
   "outputs": [],
   "source": [
    "otchetDosud = Period(fzDosud)\n",
    "otchetDosud"
   ]
  },
  {
   "cell_type": "markdown",
   "metadata": {},
   "source": [
    "#### Судебная фаза"
   ]
  },
  {
   "cell_type": "code",
   "execution_count": 131,
   "metadata": {},
   "outputs": [],
   "source": [
    "fzSud = fzcopy[fzcopy[\"Общая стадия\"] == \"Суд\"]"
   ]
  },
  {
   "cell_type": "code",
   "execution_count": null,
   "metadata": {},
   "outputs": [],
   "source": [
    "otchetSud = Period(fzSud)\n",
    "otchetSud"
   ]
  },
  {
   "cell_type": "markdown",
   "metadata": {},
   "source": [
    "#### ФССП фаза"
   ]
  },
  {
   "cell_type": "code",
   "execution_count": 133,
   "metadata": {},
   "outputs": [],
   "source": [
    "fzFssp = fzcopy[(fzcopy[\"Общая стадия\"] == \"ФССП\")]"
   ]
  },
  {
   "cell_type": "markdown",
   "metadata": {},
   "source": [
    "#### Итог"
   ]
  },
  {
   "cell_type": "code",
   "execution_count": null,
   "metadata": {},
   "outputs": [],
   "source": [
    "# data = [[\"Отчетный месяц\"], [\"от 2 до 3 месяцев после отчетного\"], [\"от 3 месяцев до 3 лет после отчетного\"], [\"свыше 3 лет\"]]\n",
    "# total_ost = pd.DataFrame(columns=\"Категория\")\n",
    "# total_ost['Категория']\n",
    "total_ost = pd.concat([Period(fzDosud), Period(fzSud), Period(fzFssp)], axis=1)\n",
    "total_ost.to_excel(\"./total_ost.xlsx\")\n"
   ]
  },
  {
   "cell_type": "code",
   "execution_count": null,
   "metadata": {},
   "outputs": [],
   "source": [
    "total_ces = pd.concat([Period(fzDosud), Period(fzSud), Period(fzFssp)], axis=1)\n",
    "total_ces.to_excel(\"./total_ces.xlsx\")"
   ]
  },
  {
   "cell_type": "code",
   "execution_count": null,
   "metadata": {},
   "outputs": [],
   "source": [
    "total_ces = pd.concat([Period(fzDosud), Period(fzSud), Period(fzFssp)], axis=1)\n",
    "total_ces.to_excel(\"./total_mun.xlsx\")"
   ]
  },
  {
   "cell_type": "code",
   "execution_count": 192,
   "metadata": {},
   "outputs": [],
   "source": [
    "def Category(df):\n",
    "    sv = pd.read_excel(\"../data/документация/Стадии взысканий.xlsx\")\n",
    "\n",
    "    dfcopy = df.copy(deep=True)\n",
    "    dfcopy = pd.merge(dfcopy, sv, how=\"left\")\n",
    "\n",
    "\n",
    "    dfcopy['Сумма'] = pd.to_numeric(dfcopy['Сумма'].replace(',', '.', regex=True).astype(float))\n",
    "    dfcopy['ROW_ID_Взыскания'] = pd.to_numeric(dfcopy['ROW_ID_Взыскания'], errors='coerce').fillna(0).astype(int)\n",
    "    dfcopy['НомерДела'] = pd.to_numeric(dfcopy['НомерДела'], errors='coerce').fillna(0).astype(int)\n",
    "    dfcopy['Месяц долга'] = pd.to_datetime(dfcopy['Месяц долга'])\n",
    "\n",
    "    # Досудебная\n",
    "    dfDosud = dfcopy[(dfcopy[\"Общая стадия\"] == \"Досубедная от месяца\") | dfcopy[\"Фаза\"].isna() | dfcopy[\"Общая стадия\"].isna()]\n",
    "\n",
    "    # Судебная\n",
    "    dfSud = dfcopy[dfcopy[\"Общая стадия\"] == \"Суд\"]\n",
    "\n",
    "    # ФССП\n",
    "    dfFssp = dfcopy[(dfcopy[\"Общая стадия\"] == \"ФССП\")]\n",
    "\n",
    "    total_df = pd.concat([Period(dfDosud), Period(dfSud), Period(dfFssp)], axis=1)\n",
    "\n",
    "    return total_df\n",
    "    "
   ]
  },
  {
   "cell_type": "code",
   "execution_count": 188,
   "metadata": {},
   "outputs": [],
   "source": [
    "df_ost = pd.read_csv(\"../data/документация/ost.csv\")\n",
    "df_ces = pd.read_csv(\"../data/документация/ces.csv\")\n",
    "df_mun = pd.read_csv(\"../data/документация/mun.csv\")"
   ]
  },
  {
   "cell_type": "code",
   "execution_count": 202,
   "metadata": {},
   "outputs": [
    {
     "name": "stderr",
     "output_type": "stream",
     "text": [
      "C:\\Users\\n.kostryukov\\AppData\\Local\\Temp\\ipykernel_38576\\4286576348.py:5: SettingWithCopyWarning: \n",
      "A value is trying to be set on a copy of a slice from a DataFrame.\n",
      "Try using .loc[row_indexer,col_indexer] = value instead\n",
      "\n",
      "See the caveats in the documentation: https://pandas.pydata.org/pandas-docs/stable/user_guide/indexing.html#returning-a-view-versus-a-copy\n",
      "  df['months_diff'] = (\n",
      "C:\\Users\\n.kostryukov\\AppData\\Local\\Temp\\ipykernel_38576\\4286576348.py:10: SettingWithCopyWarning: \n",
      "A value is trying to be set on a copy of a slice from a DataFrame.\n",
      "Try using .loc[row_indexer,col_indexer] = value instead\n",
      "\n",
      "See the caveats in the documentation: https://pandas.pydata.org/pandas-docs/stable/user_guide/indexing.html#returning-a-view-versus-a-copy\n",
      "  df['years_diff'] = df['months_diff'] // 12\n",
      "C:\\Users\\n.kostryukov\\AppData\\Local\\Temp\\ipykernel_38576\\4286576348.py:19: FutureWarning: The behavior of DataFrame concatenation with empty or all-NA entries is deprecated. In a future version, this will no longer exclude empty or all-NA columns when determining the result dtypes. To retain the old behavior, exclude the relevant entries before the concat operation.\n",
      "  dfp = pd.concat([dfp, create_row(\n",
      "C:\\Users\\n.kostryukov\\AppData\\Local\\Temp\\ipykernel_38576\\4286576348.py:5: SettingWithCopyWarning: \n",
      "A value is trying to be set on a copy of a slice from a DataFrame.\n",
      "Try using .loc[row_indexer,col_indexer] = value instead\n",
      "\n",
      "See the caveats in the documentation: https://pandas.pydata.org/pandas-docs/stable/user_guide/indexing.html#returning-a-view-versus-a-copy\n",
      "  df['months_diff'] = (\n",
      "C:\\Users\\n.kostryukov\\AppData\\Local\\Temp\\ipykernel_38576\\4286576348.py:10: SettingWithCopyWarning: \n",
      "A value is trying to be set on a copy of a slice from a DataFrame.\n",
      "Try using .loc[row_indexer,col_indexer] = value instead\n",
      "\n",
      "See the caveats in the documentation: https://pandas.pydata.org/pandas-docs/stable/user_guide/indexing.html#returning-a-view-versus-a-copy\n",
      "  df['years_diff'] = df['months_diff'] // 12\n",
      "C:\\Users\\n.kostryukov\\AppData\\Local\\Temp\\ipykernel_38576\\4286576348.py:19: FutureWarning: The behavior of DataFrame concatenation with empty or all-NA entries is deprecated. In a future version, this will no longer exclude empty or all-NA columns when determining the result dtypes. To retain the old behavior, exclude the relevant entries before the concat operation.\n",
      "  dfp = pd.concat([dfp, create_row(\n",
      "C:\\Users\\n.kostryukov\\AppData\\Local\\Temp\\ipykernel_38576\\4286576348.py:5: SettingWithCopyWarning: \n",
      "A value is trying to be set on a copy of a slice from a DataFrame.\n",
      "Try using .loc[row_indexer,col_indexer] = value instead\n",
      "\n",
      "See the caveats in the documentation: https://pandas.pydata.org/pandas-docs/stable/user_guide/indexing.html#returning-a-view-versus-a-copy\n",
      "  df['months_diff'] = (\n",
      "C:\\Users\\n.kostryukov\\AppData\\Local\\Temp\\ipykernel_38576\\4286576348.py:10: SettingWithCopyWarning: \n",
      "A value is trying to be set on a copy of a slice from a DataFrame.\n",
      "Try using .loc[row_indexer,col_indexer] = value instead\n",
      "\n",
      "See the caveats in the documentation: https://pandas.pydata.org/pandas-docs/stable/user_guide/indexing.html#returning-a-view-versus-a-copy\n",
      "  df['years_diff'] = df['months_diff'] // 12\n",
      "C:\\Users\\n.kostryukov\\AppData\\Local\\Temp\\ipykernel_38576\\4286576348.py:19: FutureWarning: The behavior of DataFrame concatenation with empty or all-NA entries is deprecated. In a future version, this will no longer exclude empty or all-NA columns when determining the result dtypes. To retain the old behavior, exclude the relevant entries before the concat operation.\n",
      "  dfp = pd.concat([dfp, create_row(\n"
     ]
    },
    {
     "data": {
      "text/html": [
       "<div>\n",
       "<style scoped>\n",
       "    .dataframe tbody tr th:only-of-type {\n",
       "        vertical-align: middle;\n",
       "    }\n",
       "\n",
       "    .dataframe tbody tr th {\n",
       "        vertical-align: top;\n",
       "    }\n",
       "\n",
       "    .dataframe thead th {\n",
       "        text-align: right;\n",
       "    }\n",
       "</style>\n",
       "<table border=\"1\" class=\"dataframe\">\n",
       "  <thead>\n",
       "    <tr style=\"text-align: right;\">\n",
       "      <th></th>\n",
       "      <th>КоличествоЛЦ</th>\n",
       "      <th>КоличествоДел</th>\n",
       "      <th>СуммаДолга</th>\n",
       "      <th>КоличествоЛЦ</th>\n",
       "      <th>КоличествоДел</th>\n",
       "      <th>СуммаДолга</th>\n",
       "      <th>КоличествоЛЦ</th>\n",
       "      <th>КоличествоДел</th>\n",
       "      <th>СуммаДолга</th>\n",
       "    </tr>\n",
       "  </thead>\n",
       "  <tbody>\n",
       "    <tr>\n",
       "      <th>0</th>\n",
       "      <td>0</td>\n",
       "      <td>0</td>\n",
       "      <td>0.000000e+00</td>\n",
       "      <td>0</td>\n",
       "      <td>0</td>\n",
       "      <td>0.000000e+00</td>\n",
       "      <td>0</td>\n",
       "      <td>0</td>\n",
       "      <td>0.000000e+00</td>\n",
       "    </tr>\n",
       "    <tr>\n",
       "      <th>0</th>\n",
       "      <td>34520</td>\n",
       "      <td>1778</td>\n",
       "      <td>1.026123e+08</td>\n",
       "      <td>1</td>\n",
       "      <td>1</td>\n",
       "      <td>3.354320e+03</td>\n",
       "      <td>0</td>\n",
       "      <td>0</td>\n",
       "      <td>0.000000e+00</td>\n",
       "    </tr>\n",
       "    <tr>\n",
       "      <th>0</th>\n",
       "      <td>41349</td>\n",
       "      <td>10298</td>\n",
       "      <td>3.322511e+08</td>\n",
       "      <td>13444</td>\n",
       "      <td>17315</td>\n",
       "      <td>3.001866e+08</td>\n",
       "      <td>14939</td>\n",
       "      <td>32940</td>\n",
       "      <td>4.991188e+08</td>\n",
       "    </tr>\n",
       "    <tr>\n",
       "      <th>0</th>\n",
       "      <td>10356</td>\n",
       "      <td>2942</td>\n",
       "      <td>7.038945e+07</td>\n",
       "      <td>6776</td>\n",
       "      <td>7386</td>\n",
       "      <td>1.474535e+08</td>\n",
       "      <td>10886</td>\n",
       "      <td>19384</td>\n",
       "      <td>3.253173e+08</td>\n",
       "    </tr>\n",
       "  </tbody>\n",
       "</table>\n",
       "</div>"
      ],
      "text/plain": [
       "  КоличествоЛЦ КоличествоДел    СуммаДолга КоличествоЛЦ КоличествоДел  \\\n",
       "0            0             0  0.000000e+00            0             0   \n",
       "0        34520          1778  1.026123e+08            1             1   \n",
       "0        41349         10298  3.322511e+08        13444         17315   \n",
       "0        10356          2942  7.038945e+07         6776          7386   \n",
       "\n",
       "     СуммаДолга КоличествоЛЦ КоличествоДел    СуммаДолга  \n",
       "0  0.000000e+00            0             0  0.000000e+00  \n",
       "0  3.354320e+03            0             0  0.000000e+00  \n",
       "0  3.001866e+08        14939         32940  4.991188e+08  \n",
       "0  1.474535e+08        10886         19384  3.253173e+08  "
      ]
     },
     "execution_count": 202,
     "metadata": {},
     "output_type": "execute_result"
    }
   ],
   "source": [
    "# Остальные\n",
    "Category(df_ost)"
   ]
  },
  {
   "cell_type": "code",
   "execution_count": 201,
   "metadata": {},
   "outputs": [
    {
     "name": "stderr",
     "output_type": "stream",
     "text": [
      "C:\\Users\\n.kostryukov\\AppData\\Local\\Temp\\ipykernel_38576\\4286576348.py:5: SettingWithCopyWarning: \n",
      "A value is trying to be set on a copy of a slice from a DataFrame.\n",
      "Try using .loc[row_indexer,col_indexer] = value instead\n",
      "\n",
      "See the caveats in the documentation: https://pandas.pydata.org/pandas-docs/stable/user_guide/indexing.html#returning-a-view-versus-a-copy\n",
      "  df['months_diff'] = (\n",
      "C:\\Users\\n.kostryukov\\AppData\\Local\\Temp\\ipykernel_38576\\4286576348.py:10: SettingWithCopyWarning: \n",
      "A value is trying to be set on a copy of a slice from a DataFrame.\n",
      "Try using .loc[row_indexer,col_indexer] = value instead\n",
      "\n",
      "See the caveats in the documentation: https://pandas.pydata.org/pandas-docs/stable/user_guide/indexing.html#returning-a-view-versus-a-copy\n",
      "  df['years_diff'] = df['months_diff'] // 12\n",
      "C:\\Users\\n.kostryukov\\AppData\\Local\\Temp\\ipykernel_38576\\4286576348.py:19: FutureWarning: The behavior of DataFrame concatenation with empty or all-NA entries is deprecated. In a future version, this will no longer exclude empty or all-NA columns when determining the result dtypes. To retain the old behavior, exclude the relevant entries before the concat operation.\n",
      "  dfp = pd.concat([dfp, create_row(\n",
      "C:\\Users\\n.kostryukov\\AppData\\Local\\Temp\\ipykernel_38576\\4286576348.py:5: SettingWithCopyWarning: \n",
      "A value is trying to be set on a copy of a slice from a DataFrame.\n",
      "Try using .loc[row_indexer,col_indexer] = value instead\n",
      "\n",
      "See the caveats in the documentation: https://pandas.pydata.org/pandas-docs/stable/user_guide/indexing.html#returning-a-view-versus-a-copy\n",
      "  df['months_diff'] = (\n",
      "C:\\Users\\n.kostryukov\\AppData\\Local\\Temp\\ipykernel_38576\\4286576348.py:10: SettingWithCopyWarning: \n",
      "A value is trying to be set on a copy of a slice from a DataFrame.\n",
      "Try using .loc[row_indexer,col_indexer] = value instead\n",
      "\n",
      "See the caveats in the documentation: https://pandas.pydata.org/pandas-docs/stable/user_guide/indexing.html#returning-a-view-versus-a-copy\n",
      "  df['years_diff'] = df['months_diff'] // 12\n",
      "C:\\Users\\n.kostryukov\\AppData\\Local\\Temp\\ipykernel_38576\\4286576348.py:19: FutureWarning: The behavior of DataFrame concatenation with empty or all-NA entries is deprecated. In a future version, this will no longer exclude empty or all-NA columns when determining the result dtypes. To retain the old behavior, exclude the relevant entries before the concat operation.\n",
      "  dfp = pd.concat([dfp, create_row(\n",
      "C:\\Users\\n.kostryukov\\AppData\\Local\\Temp\\ipykernel_38576\\4286576348.py:5: SettingWithCopyWarning: \n",
      "A value is trying to be set on a copy of a slice from a DataFrame.\n",
      "Try using .loc[row_indexer,col_indexer] = value instead\n",
      "\n",
      "See the caveats in the documentation: https://pandas.pydata.org/pandas-docs/stable/user_guide/indexing.html#returning-a-view-versus-a-copy\n",
      "  df['months_diff'] = (\n",
      "C:\\Users\\n.kostryukov\\AppData\\Local\\Temp\\ipykernel_38576\\4286576348.py:10: SettingWithCopyWarning: \n",
      "A value is trying to be set on a copy of a slice from a DataFrame.\n",
      "Try using .loc[row_indexer,col_indexer] = value instead\n",
      "\n",
      "See the caveats in the documentation: https://pandas.pydata.org/pandas-docs/stable/user_guide/indexing.html#returning-a-view-versus-a-copy\n",
      "  df['years_diff'] = df['months_diff'] // 12\n",
      "C:\\Users\\n.kostryukov\\AppData\\Local\\Temp\\ipykernel_38576\\4286576348.py:19: FutureWarning: The behavior of DataFrame concatenation with empty or all-NA entries is deprecated. In a future version, this will no longer exclude empty or all-NA columns when determining the result dtypes. To retain the old behavior, exclude the relevant entries before the concat operation.\n",
      "  dfp = pd.concat([dfp, create_row(\n"
     ]
    }
   ],
   "source": [
    "Category(df_ost).to_excel (\"../data/документация/total_ost.xlsx\")"
   ]
  },
  {
   "cell_type": "code",
   "execution_count": 204,
   "metadata": {},
   "outputs": [
    {
     "name": "stderr",
     "output_type": "stream",
     "text": [
      "C:\\Users\\n.kostryukov\\AppData\\Local\\Temp\\ipykernel_38576\\4286576348.py:5: SettingWithCopyWarning: \n",
      "A value is trying to be set on a copy of a slice from a DataFrame.\n",
      "Try using .loc[row_indexer,col_indexer] = value instead\n",
      "\n",
      "See the caveats in the documentation: https://pandas.pydata.org/pandas-docs/stable/user_guide/indexing.html#returning-a-view-versus-a-copy\n",
      "  df['months_diff'] = (\n",
      "C:\\Users\\n.kostryukov\\AppData\\Local\\Temp\\ipykernel_38576\\4286576348.py:10: SettingWithCopyWarning: \n",
      "A value is trying to be set on a copy of a slice from a DataFrame.\n",
      "Try using .loc[row_indexer,col_indexer] = value instead\n",
      "\n",
      "See the caveats in the documentation: https://pandas.pydata.org/pandas-docs/stable/user_guide/indexing.html#returning-a-view-versus-a-copy\n",
      "  df['years_diff'] = df['months_diff'] // 12\n",
      "C:\\Users\\n.kostryukov\\AppData\\Local\\Temp\\ipykernel_38576\\4286576348.py:19: FutureWarning: The behavior of DataFrame concatenation with empty or all-NA entries is deprecated. In a future version, this will no longer exclude empty or all-NA columns when determining the result dtypes. To retain the old behavior, exclude the relevant entries before the concat operation.\n",
      "  dfp = pd.concat([dfp, create_row(\n",
      "C:\\Users\\n.kostryukov\\AppData\\Local\\Temp\\ipykernel_38576\\4286576348.py:5: SettingWithCopyWarning: \n",
      "A value is trying to be set on a copy of a slice from a DataFrame.\n",
      "Try using .loc[row_indexer,col_indexer] = value instead\n",
      "\n",
      "See the caveats in the documentation: https://pandas.pydata.org/pandas-docs/stable/user_guide/indexing.html#returning-a-view-versus-a-copy\n",
      "  df['months_diff'] = (\n",
      "C:\\Users\\n.kostryukov\\AppData\\Local\\Temp\\ipykernel_38576\\4286576348.py:10: SettingWithCopyWarning: \n",
      "A value is trying to be set on a copy of a slice from a DataFrame.\n",
      "Try using .loc[row_indexer,col_indexer] = value instead\n",
      "\n",
      "See the caveats in the documentation: https://pandas.pydata.org/pandas-docs/stable/user_guide/indexing.html#returning-a-view-versus-a-copy\n",
      "  df['years_diff'] = df['months_diff'] // 12\n",
      "C:\\Users\\n.kostryukov\\AppData\\Local\\Temp\\ipykernel_38576\\4286576348.py:19: FutureWarning: The behavior of DataFrame concatenation with empty or all-NA entries is deprecated. In a future version, this will no longer exclude empty or all-NA columns when determining the result dtypes. To retain the old behavior, exclude the relevant entries before the concat operation.\n",
      "  dfp = pd.concat([dfp, create_row(\n",
      "C:\\Users\\n.kostryukov\\AppData\\Local\\Temp\\ipykernel_38576\\4286576348.py:5: SettingWithCopyWarning: \n",
      "A value is trying to be set on a copy of a slice from a DataFrame.\n",
      "Try using .loc[row_indexer,col_indexer] = value instead\n",
      "\n",
      "See the caveats in the documentation: https://pandas.pydata.org/pandas-docs/stable/user_guide/indexing.html#returning-a-view-versus-a-copy\n",
      "  df['months_diff'] = (\n",
      "C:\\Users\\n.kostryukov\\AppData\\Local\\Temp\\ipykernel_38576\\4286576348.py:10: SettingWithCopyWarning: \n",
      "A value is trying to be set on a copy of a slice from a DataFrame.\n",
      "Try using .loc[row_indexer,col_indexer] = value instead\n",
      "\n",
      "See the caveats in the documentation: https://pandas.pydata.org/pandas-docs/stable/user_guide/indexing.html#returning-a-view-versus-a-copy\n",
      "  df['years_diff'] = df['months_diff'] // 12\n",
      "C:\\Users\\n.kostryukov\\AppData\\Local\\Temp\\ipykernel_38576\\4286576348.py:19: FutureWarning: The behavior of DataFrame concatenation with empty or all-NA entries is deprecated. In a future version, this will no longer exclude empty or all-NA columns when determining the result dtypes. To retain the old behavior, exclude the relevant entries before the concat operation.\n",
      "  dfp = pd.concat([dfp, create_row(\n"
     ]
    },
    {
     "data": {
      "text/html": [
       "<div>\n",
       "<style scoped>\n",
       "    .dataframe tbody tr th:only-of-type {\n",
       "        vertical-align: middle;\n",
       "    }\n",
       "\n",
       "    .dataframe tbody tr th {\n",
       "        vertical-align: top;\n",
       "    }\n",
       "\n",
       "    .dataframe thead th {\n",
       "        text-align: right;\n",
       "    }\n",
       "</style>\n",
       "<table border=\"1\" class=\"dataframe\">\n",
       "  <thead>\n",
       "    <tr style=\"text-align: right;\">\n",
       "      <th></th>\n",
       "      <th>КоличествоЛЦ</th>\n",
       "      <th>КоличествоДел</th>\n",
       "      <th>СуммаДолга</th>\n",
       "      <th>КоличествоЛЦ</th>\n",
       "      <th>КоличествоДел</th>\n",
       "      <th>СуммаДолга</th>\n",
       "      <th>КоличествоЛЦ</th>\n",
       "      <th>КоличествоДел</th>\n",
       "      <th>СуммаДолга</th>\n",
       "    </tr>\n",
       "  </thead>\n",
       "  <tbody>\n",
       "    <tr>\n",
       "      <th>0</th>\n",
       "      <td>0</td>\n",
       "      <td>0</td>\n",
       "      <td>0.000000e+00</td>\n",
       "      <td>0</td>\n",
       "      <td>0</td>\n",
       "      <td>0.00</td>\n",
       "      <td>0</td>\n",
       "      <td>0</td>\n",
       "      <td>0.00</td>\n",
       "    </tr>\n",
       "    <tr>\n",
       "      <th>0</th>\n",
       "      <td>1</td>\n",
       "      <td>1</td>\n",
       "      <td>1.930000e+01</td>\n",
       "      <td>0</td>\n",
       "      <td>0</td>\n",
       "      <td>0.00</td>\n",
       "      <td>0</td>\n",
       "      <td>0</td>\n",
       "      <td>0.00</td>\n",
       "    </tr>\n",
       "    <tr>\n",
       "      <th>0</th>\n",
       "      <td>1007</td>\n",
       "      <td>388</td>\n",
       "      <td>1.363419e+07</td>\n",
       "      <td>275</td>\n",
       "      <td>289</td>\n",
       "      <td>1938224.73</td>\n",
       "      <td>847</td>\n",
       "      <td>1464</td>\n",
       "      <td>8963367.00</td>\n",
       "    </tr>\n",
       "    <tr>\n",
       "      <th>0</th>\n",
       "      <td>15292</td>\n",
       "      <td>1149</td>\n",
       "      <td>2.052686e+08</td>\n",
       "      <td>850</td>\n",
       "      <td>895</td>\n",
       "      <td>9321051.74</td>\n",
       "      <td>6353</td>\n",
       "      <td>11290</td>\n",
       "      <td>85378344.18</td>\n",
       "    </tr>\n",
       "  </tbody>\n",
       "</table>\n",
       "</div>"
      ],
      "text/plain": [
       "  КоличествоЛЦ КоличествоДел    СуммаДолга КоличествоЛЦ КоличествоДел  \\\n",
       "0            0             0  0.000000e+00            0             0   \n",
       "0            1             1  1.930000e+01            0             0   \n",
       "0         1007           388  1.363419e+07          275           289   \n",
       "0        15292          1149  2.052686e+08          850           895   \n",
       "\n",
       "   СуммаДолга КоличествоЛЦ КоличествоДел   СуммаДолга  \n",
       "0        0.00            0             0         0.00  \n",
       "0        0.00            0             0         0.00  \n",
       "0  1938224.73          847          1464   8963367.00  \n",
       "0  9321051.74         6353         11290  85378344.18  "
      ]
     },
     "execution_count": 204,
     "metadata": {},
     "output_type": "execute_result"
    }
   ],
   "source": [
    "# Цессии\n",
    "Category(df_ces)"
   ]
  },
  {
   "cell_type": "code",
   "execution_count": 206,
   "metadata": {},
   "outputs": [
    {
     "name": "stderr",
     "output_type": "stream",
     "text": [
      "C:\\Users\\n.kostryukov\\AppData\\Local\\Temp\\ipykernel_38576\\4286576348.py:5: SettingWithCopyWarning: \n",
      "A value is trying to be set on a copy of a slice from a DataFrame.\n",
      "Try using .loc[row_indexer,col_indexer] = value instead\n",
      "\n",
      "See the caveats in the documentation: https://pandas.pydata.org/pandas-docs/stable/user_guide/indexing.html#returning-a-view-versus-a-copy\n",
      "  df['months_diff'] = (\n",
      "C:\\Users\\n.kostryukov\\AppData\\Local\\Temp\\ipykernel_38576\\4286576348.py:10: SettingWithCopyWarning: \n",
      "A value is trying to be set on a copy of a slice from a DataFrame.\n",
      "Try using .loc[row_indexer,col_indexer] = value instead\n",
      "\n",
      "See the caveats in the documentation: https://pandas.pydata.org/pandas-docs/stable/user_guide/indexing.html#returning-a-view-versus-a-copy\n",
      "  df['years_diff'] = df['months_diff'] // 12\n",
      "C:\\Users\\n.kostryukov\\AppData\\Local\\Temp\\ipykernel_38576\\4286576348.py:19: FutureWarning: The behavior of DataFrame concatenation with empty or all-NA entries is deprecated. In a future version, this will no longer exclude empty or all-NA columns when determining the result dtypes. To retain the old behavior, exclude the relevant entries before the concat operation.\n",
      "  dfp = pd.concat([dfp, create_row(\n",
      "C:\\Users\\n.kostryukov\\AppData\\Local\\Temp\\ipykernel_38576\\4286576348.py:5: SettingWithCopyWarning: \n",
      "A value is trying to be set on a copy of a slice from a DataFrame.\n",
      "Try using .loc[row_indexer,col_indexer] = value instead\n",
      "\n",
      "See the caveats in the documentation: https://pandas.pydata.org/pandas-docs/stable/user_guide/indexing.html#returning-a-view-versus-a-copy\n",
      "  df['months_diff'] = (\n",
      "C:\\Users\\n.kostryukov\\AppData\\Local\\Temp\\ipykernel_38576\\4286576348.py:10: SettingWithCopyWarning: \n",
      "A value is trying to be set on a copy of a slice from a DataFrame.\n",
      "Try using .loc[row_indexer,col_indexer] = value instead\n",
      "\n",
      "See the caveats in the documentation: https://pandas.pydata.org/pandas-docs/stable/user_guide/indexing.html#returning-a-view-versus-a-copy\n",
      "  df['years_diff'] = df['months_diff'] // 12\n",
      "C:\\Users\\n.kostryukov\\AppData\\Local\\Temp\\ipykernel_38576\\4286576348.py:19: FutureWarning: The behavior of DataFrame concatenation with empty or all-NA entries is deprecated. In a future version, this will no longer exclude empty or all-NA columns when determining the result dtypes. To retain the old behavior, exclude the relevant entries before the concat operation.\n",
      "  dfp = pd.concat([dfp, create_row(\n",
      "C:\\Users\\n.kostryukov\\AppData\\Local\\Temp\\ipykernel_38576\\4286576348.py:5: SettingWithCopyWarning: \n",
      "A value is trying to be set on a copy of a slice from a DataFrame.\n",
      "Try using .loc[row_indexer,col_indexer] = value instead\n",
      "\n",
      "See the caveats in the documentation: https://pandas.pydata.org/pandas-docs/stable/user_guide/indexing.html#returning-a-view-versus-a-copy\n",
      "  df['months_diff'] = (\n",
      "C:\\Users\\n.kostryukov\\AppData\\Local\\Temp\\ipykernel_38576\\4286576348.py:10: SettingWithCopyWarning: \n",
      "A value is trying to be set on a copy of a slice from a DataFrame.\n",
      "Try using .loc[row_indexer,col_indexer] = value instead\n",
      "\n",
      "See the caveats in the documentation: https://pandas.pydata.org/pandas-docs/stable/user_guide/indexing.html#returning-a-view-versus-a-copy\n",
      "  df['years_diff'] = df['months_diff'] // 12\n",
      "C:\\Users\\n.kostryukov\\AppData\\Local\\Temp\\ipykernel_38576\\4286576348.py:19: FutureWarning: The behavior of DataFrame concatenation with empty or all-NA entries is deprecated. In a future version, this will no longer exclude empty or all-NA columns when determining the result dtypes. To retain the old behavior, exclude the relevant entries before the concat operation.\n",
      "  dfp = pd.concat([dfp, create_row(\n"
     ]
    }
   ],
   "source": [
    "Category(df_ces).to_excel (\"../data/документация/total_ces.xlsx\")"
   ]
  },
  {
   "cell_type": "code",
   "execution_count": 198,
   "metadata": {},
   "outputs": [
    {
     "name": "stderr",
     "output_type": "stream",
     "text": [
      "C:\\Users\\n.kostryukov\\AppData\\Local\\Temp\\ipykernel_38576\\4286576348.py:5: SettingWithCopyWarning: \n",
      "A value is trying to be set on a copy of a slice from a DataFrame.\n",
      "Try using .loc[row_indexer,col_indexer] = value instead\n",
      "\n",
      "See the caveats in the documentation: https://pandas.pydata.org/pandas-docs/stable/user_guide/indexing.html#returning-a-view-versus-a-copy\n",
      "  df['months_diff'] = (\n",
      "C:\\Users\\n.kostryukov\\AppData\\Local\\Temp\\ipykernel_38576\\4286576348.py:10: SettingWithCopyWarning: \n",
      "A value is trying to be set on a copy of a slice from a DataFrame.\n",
      "Try using .loc[row_indexer,col_indexer] = value instead\n",
      "\n",
      "See the caveats in the documentation: https://pandas.pydata.org/pandas-docs/stable/user_guide/indexing.html#returning-a-view-versus-a-copy\n",
      "  df['years_diff'] = df['months_diff'] // 12\n",
      "C:\\Users\\n.kostryukov\\AppData\\Local\\Temp\\ipykernel_38576\\4286576348.py:19: FutureWarning: The behavior of DataFrame concatenation with empty or all-NA entries is deprecated. In a future version, this will no longer exclude empty or all-NA columns when determining the result dtypes. To retain the old behavior, exclude the relevant entries before the concat operation.\n",
      "  dfp = pd.concat([dfp, create_row(\n",
      "C:\\Users\\n.kostryukov\\AppData\\Local\\Temp\\ipykernel_38576\\4286576348.py:5: SettingWithCopyWarning: \n",
      "A value is trying to be set on a copy of a slice from a DataFrame.\n",
      "Try using .loc[row_indexer,col_indexer] = value instead\n",
      "\n",
      "See the caveats in the documentation: https://pandas.pydata.org/pandas-docs/stable/user_guide/indexing.html#returning-a-view-versus-a-copy\n",
      "  df['months_diff'] = (\n",
      "C:\\Users\\n.kostryukov\\AppData\\Local\\Temp\\ipykernel_38576\\4286576348.py:10: SettingWithCopyWarning: \n",
      "A value is trying to be set on a copy of a slice from a DataFrame.\n",
      "Try using .loc[row_indexer,col_indexer] = value instead\n",
      "\n",
      "See the caveats in the documentation: https://pandas.pydata.org/pandas-docs/stable/user_guide/indexing.html#returning-a-view-versus-a-copy\n",
      "  df['years_diff'] = df['months_diff'] // 12\n",
      "C:\\Users\\n.kostryukov\\AppData\\Local\\Temp\\ipykernel_38576\\4286576348.py:19: FutureWarning: The behavior of DataFrame concatenation with empty or all-NA entries is deprecated. In a future version, this will no longer exclude empty or all-NA columns when determining the result dtypes. To retain the old behavior, exclude the relevant entries before the concat operation.\n",
      "  dfp = pd.concat([dfp, create_row(\n",
      "C:\\Users\\n.kostryukov\\AppData\\Local\\Temp\\ipykernel_38576\\4286576348.py:5: SettingWithCopyWarning: \n",
      "A value is trying to be set on a copy of a slice from a DataFrame.\n",
      "Try using .loc[row_indexer,col_indexer] = value instead\n",
      "\n",
      "See the caveats in the documentation: https://pandas.pydata.org/pandas-docs/stable/user_guide/indexing.html#returning-a-view-versus-a-copy\n",
      "  df['months_diff'] = (\n",
      "C:\\Users\\n.kostryukov\\AppData\\Local\\Temp\\ipykernel_38576\\4286576348.py:10: SettingWithCopyWarning: \n",
      "A value is trying to be set on a copy of a slice from a DataFrame.\n",
      "Try using .loc[row_indexer,col_indexer] = value instead\n",
      "\n",
      "See the caveats in the documentation: https://pandas.pydata.org/pandas-docs/stable/user_guide/indexing.html#returning-a-view-versus-a-copy\n",
      "  df['years_diff'] = df['months_diff'] // 12\n",
      "C:\\Users\\n.kostryukov\\AppData\\Local\\Temp\\ipykernel_38576\\4286576348.py:19: FutureWarning: The behavior of DataFrame concatenation with empty or all-NA entries is deprecated. In a future version, this will no longer exclude empty or all-NA columns when determining the result dtypes. To retain the old behavior, exclude the relevant entries before the concat operation.\n",
      "  dfp = pd.concat([dfp, create_row(\n"
     ]
    },
    {
     "data": {
      "text/html": [
       "<div>\n",
       "<style scoped>\n",
       "    .dataframe tbody tr th:only-of-type {\n",
       "        vertical-align: middle;\n",
       "    }\n",
       "\n",
       "    .dataframe tbody tr th {\n",
       "        vertical-align: top;\n",
       "    }\n",
       "\n",
       "    .dataframe thead th {\n",
       "        text-align: right;\n",
       "    }\n",
       "</style>\n",
       "<table border=\"1\" class=\"dataframe\">\n",
       "  <thead>\n",
       "    <tr style=\"text-align: right;\">\n",
       "      <th></th>\n",
       "      <th>КоличествоЛЦ</th>\n",
       "      <th>КоличествоДел</th>\n",
       "      <th>СуммаДолга</th>\n",
       "      <th>КоличествоЛЦ</th>\n",
       "      <th>КоличествоДел</th>\n",
       "      <th>СуммаДолга</th>\n",
       "      <th>КоличествоЛЦ</th>\n",
       "      <th>КоличествоДел</th>\n",
       "      <th>СуммаДолга</th>\n",
       "    </tr>\n",
       "  </thead>\n",
       "  <tbody>\n",
       "    <tr>\n",
       "      <th>0</th>\n",
       "      <td>0</td>\n",
       "      <td>0</td>\n",
       "      <td>0.00</td>\n",
       "      <td>0</td>\n",
       "      <td>0</td>\n",
       "      <td>0.00</td>\n",
       "      <td>0</td>\n",
       "      <td>0</td>\n",
       "      <td>0.00</td>\n",
       "    </tr>\n",
       "    <tr>\n",
       "      <th>0</th>\n",
       "      <td>56</td>\n",
       "      <td>3</td>\n",
       "      <td>156703.38</td>\n",
       "      <td>0</td>\n",
       "      <td>0</td>\n",
       "      <td>0.00</td>\n",
       "      <td>0</td>\n",
       "      <td>0</td>\n",
       "      <td>0.00</td>\n",
       "    </tr>\n",
       "    <tr>\n",
       "      <th>0</th>\n",
       "      <td>60</td>\n",
       "      <td>6</td>\n",
       "      <td>424256.82</td>\n",
       "      <td>14</td>\n",
       "      <td>17</td>\n",
       "      <td>323895.28</td>\n",
       "      <td>11</td>\n",
       "      <td>25</td>\n",
       "      <td>472179.71</td>\n",
       "    </tr>\n",
       "    <tr>\n",
       "      <th>0</th>\n",
       "      <td>3</td>\n",
       "      <td>1</td>\n",
       "      <td>8897.39</td>\n",
       "      <td>5</td>\n",
       "      <td>5</td>\n",
       "      <td>127954.37</td>\n",
       "      <td>8</td>\n",
       "      <td>14</td>\n",
       "      <td>388659.78</td>\n",
       "    </tr>\n",
       "  </tbody>\n",
       "</table>\n",
       "</div>"
      ],
      "text/plain": [
       "  КоличествоЛЦ КоличествоДел  СуммаДолга КоличествоЛЦ КоличествоДел  \\\n",
       "0            0             0        0.00            0             0   \n",
       "0           56             3   156703.38            0             0   \n",
       "0           60             6   424256.82           14            17   \n",
       "0            3             1     8897.39            5             5   \n",
       "\n",
       "   СуммаДолга КоличествоЛЦ КоличествоДел  СуммаДолга  \n",
       "0        0.00            0             0        0.00  \n",
       "0        0.00            0             0        0.00  \n",
       "0   323895.28           11            25   472179.71  \n",
       "0   127954.37            8            14   388659.78  "
      ]
     },
     "execution_count": 198,
     "metadata": {},
     "output_type": "execute_result"
    }
   ],
   "source": [
    "# Мунжилье\n",
    "Category(df_mun)"
   ]
  },
  {
   "cell_type": "code",
   "execution_count": 203,
   "metadata": {},
   "outputs": [
    {
     "name": "stderr",
     "output_type": "stream",
     "text": [
      "C:\\Users\\n.kostryukov\\AppData\\Local\\Temp\\ipykernel_38576\\4286576348.py:5: SettingWithCopyWarning: \n",
      "A value is trying to be set on a copy of a slice from a DataFrame.\n",
      "Try using .loc[row_indexer,col_indexer] = value instead\n",
      "\n",
      "See the caveats in the documentation: https://pandas.pydata.org/pandas-docs/stable/user_guide/indexing.html#returning-a-view-versus-a-copy\n",
      "  df['months_diff'] = (\n",
      "C:\\Users\\n.kostryukov\\AppData\\Local\\Temp\\ipykernel_38576\\4286576348.py:10: SettingWithCopyWarning: \n",
      "A value is trying to be set on a copy of a slice from a DataFrame.\n",
      "Try using .loc[row_indexer,col_indexer] = value instead\n",
      "\n",
      "See the caveats in the documentation: https://pandas.pydata.org/pandas-docs/stable/user_guide/indexing.html#returning-a-view-versus-a-copy\n",
      "  df['years_diff'] = df['months_diff'] // 12\n",
      "C:\\Users\\n.kostryukov\\AppData\\Local\\Temp\\ipykernel_38576\\4286576348.py:19: FutureWarning: The behavior of DataFrame concatenation with empty or all-NA entries is deprecated. In a future version, this will no longer exclude empty or all-NA columns when determining the result dtypes. To retain the old behavior, exclude the relevant entries before the concat operation.\n",
      "  dfp = pd.concat([dfp, create_row(\n",
      "C:\\Users\\n.kostryukov\\AppData\\Local\\Temp\\ipykernel_38576\\4286576348.py:5: SettingWithCopyWarning: \n",
      "A value is trying to be set on a copy of a slice from a DataFrame.\n",
      "Try using .loc[row_indexer,col_indexer] = value instead\n",
      "\n",
      "See the caveats in the documentation: https://pandas.pydata.org/pandas-docs/stable/user_guide/indexing.html#returning-a-view-versus-a-copy\n",
      "  df['months_diff'] = (\n",
      "C:\\Users\\n.kostryukov\\AppData\\Local\\Temp\\ipykernel_38576\\4286576348.py:10: SettingWithCopyWarning: \n",
      "A value is trying to be set on a copy of a slice from a DataFrame.\n",
      "Try using .loc[row_indexer,col_indexer] = value instead\n",
      "\n",
      "See the caveats in the documentation: https://pandas.pydata.org/pandas-docs/stable/user_guide/indexing.html#returning-a-view-versus-a-copy\n",
      "  df['years_diff'] = df['months_diff'] // 12\n",
      "C:\\Users\\n.kostryukov\\AppData\\Local\\Temp\\ipykernel_38576\\4286576348.py:19: FutureWarning: The behavior of DataFrame concatenation with empty or all-NA entries is deprecated. In a future version, this will no longer exclude empty or all-NA columns when determining the result dtypes. To retain the old behavior, exclude the relevant entries before the concat operation.\n",
      "  dfp = pd.concat([dfp, create_row(\n",
      "C:\\Users\\n.kostryukov\\AppData\\Local\\Temp\\ipykernel_38576\\4286576348.py:5: SettingWithCopyWarning: \n",
      "A value is trying to be set on a copy of a slice from a DataFrame.\n",
      "Try using .loc[row_indexer,col_indexer] = value instead\n",
      "\n",
      "See the caveats in the documentation: https://pandas.pydata.org/pandas-docs/stable/user_guide/indexing.html#returning-a-view-versus-a-copy\n",
      "  df['months_diff'] = (\n",
      "C:\\Users\\n.kostryukov\\AppData\\Local\\Temp\\ipykernel_38576\\4286576348.py:10: SettingWithCopyWarning: \n",
      "A value is trying to be set on a copy of a slice from a DataFrame.\n",
      "Try using .loc[row_indexer,col_indexer] = value instead\n",
      "\n",
      "See the caveats in the documentation: https://pandas.pydata.org/pandas-docs/stable/user_guide/indexing.html#returning-a-view-versus-a-copy\n",
      "  df['years_diff'] = df['months_diff'] // 12\n",
      "C:\\Users\\n.kostryukov\\AppData\\Local\\Temp\\ipykernel_38576\\4286576348.py:19: FutureWarning: The behavior of DataFrame concatenation with empty or all-NA entries is deprecated. In a future version, this will no longer exclude empty or all-NA columns when determining the result dtypes. To retain the old behavior, exclude the relevant entries before the concat operation.\n",
      "  dfp = pd.concat([dfp, create_row(\n"
     ]
    }
   ],
   "source": [
    "Category(df_mun).to_excel (\"../data/документация/total_mun.xlsx\")"
   ]
  }
 ],
 "metadata": {
  "kernelspec": {
   "display_name": "pp",
   "language": "python",
   "name": "python3"
  },
  "language_info": {
   "codemirror_mode": {
    "name": "ipython",
    "version": 3
   },
   "file_extension": ".py",
   "mimetype": "text/x-python",
   "name": "python",
   "nbconvert_exporter": "python",
   "pygments_lexer": "ipython3",
   "version": "3.13.2"
  }
 },
 "nbformat": 4,
 "nbformat_minor": 2
}
